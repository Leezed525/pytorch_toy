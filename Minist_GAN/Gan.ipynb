{
 "cells": [
  {
   "cell_type": "code",
   "execution_count": 1,
   "id": "initial_id",
   "metadata": {
    "collapsed": true,
    "ExecuteTime": {
     "end_time": "2025-06-08T04:02:55.014421300Z",
     "start_time": "2025-06-08T04:02:54.564790700Z"
    }
   },
   "outputs": [],
   "source": [
    "%load_ext autoreload\n",
    "%autoreload 2\n",
    "%matplotlib inline"
   ]
  },
  {
   "cell_type": "code",
   "execution_count": 2,
   "outputs": [],
   "source": [
    "import torch\n",
    "import torch.nn as nn\n",
    "import torch.nn.functional as F\n",
    "from torchvision.datasets import MNIST\n",
    "from tqdm import tqdm\n",
    "\n",
    "device = torch.device(\"cuda\" if torch.cuda.is_available() else \"cpu\")\n",
    "\n",
    "\n",
    "# 定义生成对抗网络（GAN）的生成器\n",
    "class Generator(nn.Module):\n",
    "    def __init__(self, latent_dim=128, img_size=28, num_channels=1):\n",
    "        super(Generator, self).__init__()\n",
    "        self.img_size = img_size\n",
    "        self.num_channels = num_channels\n",
    "\n",
    "        self.main = nn.Sequential(\n",
    "            # 输入: 噪声 Z，维度为 [B, latent_dim, 1, 1] (经过全连接层后)\n",
    "            # 经过全连接层将噪声向量转换为适合反卷积的维度\n",
    "            nn.Linear(latent_dim, 256 * (img_size // 4) * (img_size // 4)),\n",
    "            nn.BatchNorm1d(256 * (img_size // 4) * (img_size // 4)),\n",
    "            nn.ReLU(True),\n",
    "\n",
    "            # 将一维向量 reshape 成特征图\n",
    "            nn.Unflatten(1, (256, img_size // 4, img_size // 4)), # 256 是通道数，img_size//4 是 H 和 W\n",
    "\n",
    "            # 反卷积层 1: 256x7x7 -> 128x14x14\n",
    "            nn.ConvTranspose2d(256, 128, kernel_size=4, stride=2, padding=1, bias=False),\n",
    "            nn.BatchNorm2d(128),\n",
    "            nn.ReLU(True),\n",
    "\n",
    "            # 反卷积层 2: 128x14x14 -> 64x28x28\n",
    "            nn.ConvTranspose2d(128, 64, kernel_size=4, stride=2, padding=1, bias=False),\n",
    "            nn.BatchNorm2d(64),\n",
    "            nn.ReLU(True),\n",
    "\n",
    "            # 反卷积层 3: 64x28x28 -> 1x28x28 (输出图像)\n",
    "            nn.ConvTranspose2d(64, num_channels, kernel_size=3, stride=1, padding=1, bias=False),\n",
    "            nn.Tanh() # 将像素值缩放到 [-1, 1]\n",
    "        )\n",
    "\n",
    "    def forward(self, input):\n",
    "        # 首先通过全连接层将噪声维度扩展\n",
    "        x = self.main[0](input)\n",
    "        x = self.main[1](x)\n",
    "        x = self.main[2](x)\n",
    "        # 然后进行 Unflatten\n",
    "        x = self.main[3](x)\n",
    "        # 接着进行反卷积\n",
    "        x = self.main[4:](x)\n",
    "        return x\n",
    "\n",
    "\n",
    "class Discriminator(nn.Module):\n",
    "    def __init__(self, img_channels=1, feature_maps_d=64):\n",
    "        super(Discriminator, self).__init__()\n",
    "        self.main = nn.Sequential(\n",
    "            # 输入图像 (batch_size, img_channels, 28, 28)\n",
    "            nn.Conv2d(img_channels, feature_maps_d, 4, 2, 1, bias=False),\n",
    "            nn.LeakyReLU(0.2, inplace=True),\n",
    "            # (batch_size, feature_maps_d, 14, 14)\n",
    "\n",
    "            nn.Conv2d(feature_maps_d, feature_maps_d * 2, 4, 2, 1, bias=False),\n",
    "            nn.BatchNorm2d(feature_maps_d * 2),\n",
    "            nn.LeakyReLU(0.2, inplace=True),\n",
    "            # (batch_size, feature_maps_d*2, 7, 7)\n",
    "\n",
    "            nn.Conv2d(feature_maps_d * 2, feature_maps_d * 4, 4, 2, 1, bias=False),\n",
    "            nn.BatchNorm2d(feature_maps_d * 4),\n",
    "            nn.LeakyReLU(0.2, inplace=True),\n",
    "            # (batch_size, feature_maps_d*4, 3, 3) (或者 4x4 取决于具体计算)\n",
    "\n",
    "            # 最终的卷积层输出到1\n",
    "            nn.Conv2d(feature_maps_d * 4, 1, 3, 1, 0, bias=False), # 调整核大小以适应最终尺寸\n",
    "            nn.Sigmoid() # 输出一个介于0和1之间的概率\n",
    "        )\n",
    "\n",
    "    def forward(self, input):\n",
    "        # 确保输入是图像格式 (batch_size, channels, H, W)\n",
    "        # 如果你的 dataloader 已经输出 (N, 1, 28, 28)，则不需要 view\n",
    "        return self.main(input.view(input.size(0), 1, 28, 28)) # 对于28x28的单通道图像\n",
    "\n",
    "\n",
    "def train_gan(G, D, dataloader, epochs, device,\n",
    "              lr_D=2e-4, lr_G=2e-4,\n",
    "              beta1=0.5,\n",
    "              g_updates_per_d=1, # D每次更新后G更新的次数\n",
    "              noise_dim=128):\n",
    "\n",
    "    criterion = nn.BCELoss() # 二元交叉熵损失\n",
    "\n",
    "    optimizer_D = torch.optim.Adam(D.parameters(), lr=lr_D, betas=(beta1, 0.999))\n",
    "    optimizer_G = torch.optim.Adam(G.parameters(), lr=lr_G, betas=(beta1, 0.999))\n",
    "\n",
    "    # 用于可视化G进展的固定噪声\n",
    "    fixed_noise = torch.randn(64, noise_dim, device=device)\n",
    "\n",
    "    print(\"开始GAN训练...\")\n",
    "    for epoch in range(epochs):\n",
    "        D_loss_total = 0\n",
    "        G_loss_total = 0\n",
    "        loader_len = len(dataloader)\n",
    "\n",
    "        for i, data in tqdm(enumerate(dataloader), desc=f\"Epoch {epoch+1}/{epochs}\", total=loader_len):\n",
    "            real_images, _ = data\n",
    "            B = real_images.size(0)\n",
    "            real_images = real_images.view(-1, 784).to(device) # 假设28x28图像展平为784\n",
    "\n",
    "            # --- 训练判别器 (D) ---\n",
    "            optimizer_D.zero_grad()\n",
    "\n",
    "            # 使用真实图像进行训练\n",
    "            real_outputs = D(real_images)\n",
    "            # 对真实图像使用软标签，防止D过于自信\n",
    "            real_labels = torch.full((B,), 0.9, device=device) # 真实图像的软标签\n",
    "            errD_real = criterion(real_outputs.view(-1), real_labels)\n",
    "            errD_real.backward()\n",
    "\n",
    "            # 使用假图像进行训练\n",
    "            noise = torch.randn(B, noise_dim, device=device)\n",
    "            fake_images = G(noise)\n",
    "            # print(fake_images.shape)\n",
    "            # 在D的训练中，G的输出需要 .detach()，这样G的梯度不会在这里计算\n",
    "            fake_output = D(fake_images.detach())\n",
    "            # 对D的假图像也使用软标签，但值更低\n",
    "            fake_labels = torch.full((B,), 0.1, device=device) # 假图像的软标签\n",
    "            errD_fake = criterion(fake_output.view(-1), fake_labels)\n",
    "            errD_fake.backward()\n",
    "\n",
    "            errD = errD_real + errD_fake\n",
    "            optimizer_D.step()\n",
    "            D_loss_total += errD.item()\n",
    "\n",
    "            # --- 训练生成器 (G) ---\n",
    "            # 如果 g_updates_per_d > 1，则G每次D更新后更新多次\n",
    "            if (i % g_updates_per_d == 0): # 仅在D训练后更新G\n",
    "                optimizer_G.zero_grad()\n",
    "                # 生成新的假图像，避免使用D训练时旧的图像\n",
    "                noise = torch.randn(B, noise_dim, device=device)\n",
    "                fake_images = G(noise)\n",
    "                # D对G生成的图像的输出。这里至关重要，不要使用 detach()。\n",
    "                output = D(fake_images)\n",
    "                # G希望D将假图像分类为真实（目标标签为1.0或软标签）\n",
    "                # 这里我们使用完整的1.0作为G的目标，以强烈鼓励它欺骗D\n",
    "                # 也可以使用 real_labels_for_G = torch.full((B,), 0.9, device=device)\n",
    "                errG = criterion(output.view(-1), torch.full((B,), 1.0, device=device))\n",
    "                errG.backward()\n",
    "                optimizer_G.step()\n",
    "                G_loss_total += errG.item()\n",
    "\n",
    "        # --- Epoch 结束总结 ---\n",
    "        d_loss_avg = D_loss_total / loader_len\n",
    "        # 根据G的更新次数调整平均损失\n",
    "        g_loss_avg = G_loss_total / (loader_len / g_updates_per_d)\n",
    "\n",
    "        print(f\"Epoch [{epoch+1}/{epochs}] \"\n",
    "              f\"D Loss: {d_loss_avg:.4f}, G Loss: {g_loss_avg:.4f}\")"
   ],
   "metadata": {
    "collapsed": false,
    "ExecuteTime": {
     "end_time": "2025-06-08T04:02:58.219884700Z",
     "start_time": "2025-06-08T04:02:55.018424Z"
    }
   },
   "id": "304e6aafc92e7f54"
  },
  {
   "cell_type": "code",
   "execution_count": null,
   "outputs": [
    {
     "name": "stdout",
     "output_type": "stream",
     "text": [
      "开始GAN训练...\n"
     ]
    },
    {
     "name": "stderr",
     "output_type": "stream",
     "text": [
      "Epoch 1/100: 100%|██████████| 235/235 [00:07<00:00, 30.15it/s]\n"
     ]
    },
    {
     "name": "stdout",
     "output_type": "stream",
     "text": [
      "Epoch [1/100] D Loss: 0.6807, G Loss: 2.4272\n"
     ]
    },
    {
     "name": "stderr",
     "output_type": "stream",
     "text": [
      "Epoch 2/100: 100%|██████████| 235/235 [00:07<00:00, 30.30it/s]\n"
     ]
    },
    {
     "name": "stdout",
     "output_type": "stream",
     "text": [
      "Epoch [2/100] D Loss: 0.7024, G Loss: 2.3954\n"
     ]
    },
    {
     "name": "stderr",
     "output_type": "stream",
     "text": [
      "Epoch 3/100: 100%|██████████| 235/235 [00:07<00:00, 30.48it/s]\n"
     ]
    },
    {
     "name": "stdout",
     "output_type": "stream",
     "text": [
      "Epoch [3/100] D Loss: 0.6821, G Loss: 2.3674\n"
     ]
    },
    {
     "name": "stderr",
     "output_type": "stream",
     "text": [
      "Epoch 4/100:  52%|█████▏    | 123/235 [00:04<00:03, 29.37it/s]"
     ]
    }
   ],
   "source": [
    "from torchvision import transforms\n",
    "\n",
    "batch_size = 256\n",
    "epochs = 100\n",
    "\n",
    "\n",
    "transform = transforms.Compose([\n",
    "    transforms.ToTensor(),  # 转换为 Tensor\n",
    "    transforms.Normalize((0.1307,), (0.3081,))  # 标准化\n",
    "])\n",
    "\n",
    "# 下载 MNIST 数据集\n",
    "mnist_train = MNIST(root='../dataset_file/mnist_raw', train=True, download=False,transform=transform)\n",
    "dataloader = torch.utils.data.DataLoader(mnist_train, batch_size=batch_size, shuffle=True)\n",
    "\n",
    "# 初始化生成器和判别器\n",
    "G = Generator().to(device)\n",
    "D = Discriminator().to(device)\n",
    "\n",
    "# 训练GAN\n",
    "train_gan(G, D, dataloader, epochs=epochs, device=device)"
   ],
   "metadata": {
    "collapsed": false,
    "is_executing": true,
    "ExecuteTime": {
     "start_time": "2025-06-08T05:34:32.005223400Z"
    }
   },
   "id": "b6b49176bb3e0087"
  },
  {
   "cell_type": "code",
   "execution_count": 8,
   "outputs": [
    {
     "data": {
      "text/plain": "<Figure size 800x800 with 16 Axes>",
      "image/png": "[encoded data removed]"
     },
     "metadata": {},
     "output_type": "display_data"
    }
   ],
   "source": [
    "#检测生成质量\n",
    "import matplotlib.pyplot as plt\n",
    "\n",
    "def generate_and_plot(G, num_images=16):\n",
    "    noise = torch.randn(num_images, 128).to(device)\n",
    "    with torch.no_grad():\n",
    "        fake_images = G(noise).view(-1, 1, 28, 28).cpu()\n",
    "    grid_size = int(num_images**0.5)\n",
    "    fig, axes = plt.subplots(grid_size, grid_size, figsize=(8, 8))\n",
    "    for i in range(grid_size):\n",
    "        for j in range(grid_size):\n",
    "            idx = i * grid_size + j\n",
    "            if idx < num_images:\n",
    "                axes[i, j].imshow(fake_images[idx].squeeze(), cmap='gray')\n",
    "            axes[i, j].axis('off')\n",
    "    plt.tight_layout()\n",
    "generate_and_plot(G, num_images=16)"
   ],
   "metadata": {
    "collapsed": false,
    "ExecuteTime": {
     "end_time": "2025-06-08T05:33:28.019336900Z",
     "start_time": "2025-06-08T05:33:27.698032200Z"
    }
   },
   "id": "53944e22b0715ed0"
  },
  {
   "cell_type": "code",
   "execution_count": 9,
   "outputs": [],
   "source": [
    "#保存两个模型\n",
    "torch.save(G.state_dict(), 'generator.pth')\n",
    "torch.save(D.state_dict(), 'discriminator.pth')"
   ],
   "metadata": {
    "collapsed": false,
    "ExecuteTime": {
     "end_time": "2025-06-08T05:33:40.745415200Z",
     "start_time": "2025-06-08T05:33:40.419057700Z"
    }
   },
   "id": "c535468e11ba641f"
  }
 ],
 "metadata": {
  "kernelspec": {
   "display_name": "Python 3",
   "language": "python",
   "name": "python3"
  },
  "language_info": {
   "codemirror_mode": {
    "name": "ipython",
    "version": 2
   },
   "file_extension": ".py",
   "mimetype": "text/x-python",
   "name": "python",
   "nbconvert_exporter": "python",
   "pygments_lexer": "ipython2",
   "version": "2.7.6"
  }
 },
 "nbformat": 4,
 "nbformat_minor": 5
}
