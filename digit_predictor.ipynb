{
 "cells": [
  {
   "cell_type": "code",
   "execution_count": 7,
   "outputs": [
    {
     "name": "stdout",
     "output_type": "stream",
     "text": [
      "The autoreload extension is already loaded. To reload it, use:\n",
      "  %reload_ext autoreload\n"
     ]
    }
   ],
   "source": [
    "%load_ext autoreload\n",
    "%autoreload 2\n",
    "%matplotlib inline"
   ],
   "metadata": {
    "collapsed": false,
    "ExecuteTime": {
     "end_time": "2025-05-31T06:20:03.091487400Z",
     "start_time": "2025-05-31T06:20:02.829307900Z"
    }
   },
   "id": "be56bbc950fffbfe"
  },
  {
   "cell_type": "code",
   "execution_count": 8,
   "id": "initial_id",
   "metadata": {
    "collapsed": true,
    "ExecuteTime": {
     "end_time": "2025-05-31T06:20:03.674497800Z",
     "start_time": "2025-05-31T06:20:03.094486800Z"
    }
   },
   "outputs": [
    {
     "name": "stdout",
     "output_type": "stream",
     "text": [
      "MNIST train dataset size: 60000\n",
      "MNIST test dataset size: 10000\n"
     ]
    }
   ],
   "source": [
    "# 导入数据集\n",
    "from torchvision.datasets import MNIST\n",
    "import torch\n",
    "\n",
    "# 设置随机种子\n",
    "torch.manual_seed(3306)\n",
    "\n",
    "# 数据预处理\n",
    "from torchvision import transforms\n",
    "# 定义数据转换\n",
    "transform = transforms.Compose([\n",
    "    transforms.ToTensor(),  # 转换为 Tensor\n",
    "    transforms.Normalize((0.1307,), (0.3081,))  # 标准化\n",
    "])\n",
    "\n",
    "# 下载 MNIST 数据集\n",
    "mnist_train = MNIST(root='./dataset_file/mnist_raw', train=True, download=True,transform=transform)\n",
    "mnist_test = MNIST(root='./dataset_file/mnist_raw', train=False, download=True,transform=transform)\n",
    "# 查看数据集大小\n",
    "print(f\"MNIST train dataset size: {len(mnist_train)}\")\n",
    "print(f\"MNIST test dataset size: {len(mnist_test)}\")"
   ]
  },
  {
   "cell_type": "code",
   "execution_count": 9,
   "outputs": [
    {
     "name": "stdout",
     "output_type": "stream",
     "text": [
      "(28, 28)\n"
     ]
    },
    {
     "data": {
      "text/plain": "<Figure size 640x480 with 1 Axes>",
      "image/png": "[encoded data removed]"
     },
     "metadata": {},
     "output_type": "display_data"
    }
   ],
   "source": [
    "# 查看图片\n",
    "import matplotlib.pyplot as plt\n",
    "\n",
    "\n",
    "def show_image(id):\n",
    "    img, label = mnist_train[id]\n",
    "    img = img.squeeze().numpy()  # 去掉通道维度\n",
    "    print(img.shape)\n",
    "    # print(img)\n",
    "    plt.imshow(img, cmap='gray')\n",
    "    plt.title(f\"Label: {label}\")\n",
    "    plt.axis('off')\n",
    "    plt.show()\n",
    "\n",
    "show_image(1)"
   ],
   "metadata": {
    "collapsed": false,
    "ExecuteTime": {
     "end_time": "2025-05-31T06:20:03.907570600Z",
     "start_time": "2025-05-31T06:20:03.674497800Z"
    }
   },
   "id": "8ea4e67426df066d"
  },
  {
   "cell_type": "code",
   "execution_count": 10,
   "outputs": [
    {
     "name": "stderr",
     "output_type": "stream",
     "text": [
      "C:\\Users\\Leezed\\AppData\\Local\\Temp\\ipykernel_33804\\3207467027.py:32: UserWarning: To copy construct from a tensor, it is recommended to use sourceTensor.detach().clone() or sourceTensor.detach().clone().requires_grad_(True), rather than torch.tensor(sourceTensor).\n",
      "  y = torch.tensor(torch.zeros((inputs.shape[0],10), dtype=torch.float)).cuda()\n"
     ]
    },
    {
     "name": "stdout",
     "output_type": "stream",
     "text": [
      "Epoch [1/50], Loss: 0.6653, Accuracy: 82.75%\n",
      "Epoch [2/50], Loss: 0.2647, Accuracy: 92.28%\n",
      "Epoch [3/50], Loss: 0.2012, Accuracy: 94.00%\n",
      "Epoch [4/50], Loss: 0.1675, Accuracy: 95.07%\n",
      "Epoch [5/50], Loss: 0.1477, Accuracy: 95.61%\n",
      "Epoch [6/50], Loss: 0.1310, Accuracy: 96.15%\n",
      "Epoch [7/50], Loss: 0.1184, Accuracy: 96.52%\n",
      "Epoch [8/50], Loss: 0.1082, Accuracy: 96.76%\n",
      "Epoch [9/50], Loss: 0.1009, Accuracy: 97.00%\n",
      "Epoch [10/50], Loss: 0.0934, Accuracy: 97.20%\n",
      "Epoch [11/50], Loss: 0.0889, Accuracy: 97.24%\n",
      "Epoch [12/50], Loss: 0.0826, Accuracy: 97.51%\n",
      "Epoch [13/50], Loss: 0.0787, Accuracy: 97.67%\n",
      "Epoch [14/50], Loss: 0.0755, Accuracy: 97.68%\n",
      "Epoch [15/50], Loss: 0.0705, Accuracy: 97.84%\n",
      "Epoch [16/50], Loss: 0.0669, Accuracy: 97.96%\n",
      "Epoch [17/50], Loss: 0.0674, Accuracy: 97.89%\n",
      "Epoch [18/50], Loss: 0.0625, Accuracy: 98.10%\n",
      "Epoch [19/50], Loss: 0.0604, Accuracy: 98.16%\n",
      "Epoch [20/50], Loss: 0.0601, Accuracy: 98.14%\n",
      "Epoch [21/50], Loss: 0.0562, Accuracy: 98.27%\n",
      "Epoch [22/50], Loss: 0.0536, Accuracy: 98.31%\n",
      "Epoch [23/50], Loss: 0.0522, Accuracy: 98.34%\n",
      "Epoch [24/50], Loss: 0.0508, Accuracy: 98.43%\n",
      "Epoch [25/50], Loss: 0.0503, Accuracy: 98.43%\n",
      "Epoch [26/50], Loss: 0.0475, Accuracy: 98.48%\n",
      "Epoch [27/50], Loss: 0.0458, Accuracy: 98.54%\n",
      "Epoch [28/50], Loss: 0.0450, Accuracy: 98.59%\n",
      "Epoch [29/50], Loss: 0.0434, Accuracy: 98.59%\n",
      "Epoch [30/50], Loss: 0.0421, Accuracy: 98.66%\n",
      "Epoch [31/50], Loss: 0.0405, Accuracy: 98.75%\n",
      "Epoch [32/50], Loss: 0.0402, Accuracy: 98.72%\n",
      "Epoch [33/50], Loss: 0.0390, Accuracy: 98.79%\n",
      "Epoch [34/50], Loss: 0.0385, Accuracy: 98.73%\n",
      "Epoch [35/50], Loss: 0.0371, Accuracy: 98.82%\n",
      "Epoch [36/50], Loss: 0.0355, Accuracy: 98.88%\n",
      "Epoch [37/50], Loss: 0.0353, Accuracy: 98.82%\n",
      "Epoch [38/50], Loss: 0.0338, Accuracy: 98.92%\n",
      "Epoch [39/50], Loss: 0.0327, Accuracy: 98.91%\n",
      "Epoch [40/50], Loss: 0.0327, Accuracy: 98.95%\n",
      "Epoch [41/50], Loss: 0.0299, Accuracy: 99.04%\n",
      "Epoch [42/50], Loss: 0.0310, Accuracy: 98.97%\n",
      "Epoch [43/50], Loss: 0.0290, Accuracy: 99.09%\n",
      "Epoch [44/50], Loss: 0.0294, Accuracy: 99.03%\n",
      "Epoch [45/50], Loss: 0.0282, Accuracy: 99.10%\n",
      "Epoch [46/50], Loss: 0.0292, Accuracy: 99.02%\n",
      "Epoch [47/50], Loss: 0.0280, Accuracy: 99.10%\n",
      "Epoch [48/50], Loss: 0.0266, Accuracy: 99.09%\n",
      "Epoch [49/50], Loss: 0.0261, Accuracy: 99.13%\n",
      "Epoch [50/50], Loss: 0.0255, Accuracy: 99.17%\n"
     ]
    }
   ],
   "source": [
    "# 数据加载器\n",
    "from torch.utils.data import DataLoader\n",
    "from lib.model.DigitModel import DigitLinear,DigitCNN\n",
    "# 定义数据加载器\n",
    "batch_size = 256\n",
    "train_loader = DataLoader(mnist_train, batch_size=batch_size, shuffle=True)\n",
    "test_loader = DataLoader(mnist_test, batch_size=batch_size, shuffle=False)\n",
    "\n",
    "epoch = 50\n",
    "# 训练模型\n",
    "# net = DigitLinear() # 参数量1M 97.50%\n",
    "net = DigitCNN() # 参数量8M 98.35%\n",
    "net.cuda()\n",
    "\n",
    "\n",
    "# 定义损失函数和优化器\n",
    "import torch.optim as optim\n",
    "criterion = torch.nn.CrossEntropyLoss()\n",
    "optimizer = optim.SGD(net.parameters(), lr=0.001, momentum=0.9)\n",
    "# 训练函数\n",
    "\n",
    "def train_model(model, train_loader, criterion, optimizer, num_epochs=10):\n",
    "    model.train()  # 设置模型为训练模式\n",
    "    \n",
    "    for epoch in range(num_epochs):\n",
    "        running_loss = 0.0\n",
    "        correct = 0\n",
    "        total = 0\n",
    "        \n",
    "        for i, (inputs, labels) in enumerate(train_loader):\n",
    "            inputs= inputs.cuda()\n",
    "            y = torch.tensor(torch.zeros((inputs.shape[0],10), dtype=torch.float)).cuda()\n",
    "            y[torch.arange(inputs.shape[0]), labels] = 1\n",
    "            optimizer.zero_grad()\n",
    "            outputs = model(inputs)\n",
    "            loss = criterion(outputs, y)\n",
    "            loss.backward()\n",
    "            optimizer.step()\n",
    "            running_loss += loss.item()\n",
    "            _, predicted = outputs.max(1)\n",
    "            total += labels.size(0)\n",
    "            correct += predicted.eq(labels.cuda()).sum().item()\n",
    "        epoch_loss = running_loss / len(train_loader)\n",
    "        epoch_acc = 100. * correct / total\n",
    "        print(f'Epoch [{epoch+1}/{num_epochs}], Loss: {epoch_loss:.4f}, Accuracy: {epoch_acc:.2f}%')\n",
    "\n",
    "# 训练模型\n",
    "train_model(net, train_loader, criterion, optimizer, num_epochs=epoch)\n",
    "            \n"
   ],
   "metadata": {
    "collapsed": false,
    "ExecuteTime": {
     "end_time": "2025-05-31T06:24:47.381050800Z",
     "start_time": "2025-05-31T06:20:03.910572100Z"
    }
   },
   "id": "1b32e2c112b93a96"
  },
  {
   "cell_type": "code",
   "execution_count": 11,
   "outputs": [
    {
     "name": "stdout",
     "output_type": "stream",
     "text": [
      "Accuracy: 98.3900 %\n"
     ]
    }
   ],
   "source": [
    "# 测试模型\n",
    "device = torch.device(\"cuda\" if torch.cuda.is_available() else \"cpu\")\n",
    "net.eval()\n",
    "correct = 0\n",
    "total = 0\n",
    "with torch.no_grad():\n",
    "    for inputs, labels in test_loader:\n",
    "        inputs, labels = inputs.to(device).float(), labels.to(device).float()\n",
    "        outputs = net(inputs)\n",
    "        _, predicted = outputs.max(1)\n",
    "        total += labels.size(0)\n",
    "        correct += predicted.eq(labels.cuda()).sum().item()\n",
    "        \n",
    "        # print(f\"Predicted: {predicted}, Ground Truth: {targets}\")\n",
    "\n",
    "print(f\"Accuracy: {correct / total * 100:.4f} %\")"
   ],
   "metadata": {
    "collapsed": false,
    "ExecuteTime": {
     "end_time": "2025-05-31T06:24:48.353767100Z",
     "start_time": "2025-05-31T06:24:47.381050800Z"
    }
   },
   "id": "94bfa801132d472b"
  },
  {
   "cell_type": "code",
   "execution_count": 13,
   "outputs": [],
   "source": [
    "# 保存模型\n",
    "torch.save(net.state_dict(), './digit_CNN.pth')"
   ],
   "metadata": {
    "collapsed": false,
    "ExecuteTime": {
     "end_time": "2025-05-31T06:29:31.962481900Z",
     "start_time": "2025-05-31T06:29:31.741280600Z"
    }
   },
   "id": "667418d32e26a53d"
  }
 ],
 "metadata": {
  "kernelspec": {
   "display_name": "Python 3",
   "language": "python",
   "name": "python3"
  },
  "language_info": {
   "codemirror_mode": {
    "name": "ipython",
    "version": 2
   },
   "file_extension": ".py",
   "mimetype": "text/x-python",
   "name": "python",
   "nbconvert_exporter": "python",
   "pygments_lexer": "ipython2",
   "version": "2.7.6"
  }
 },
 "nbformat": 4,
 "nbformat_minor": 5
}
