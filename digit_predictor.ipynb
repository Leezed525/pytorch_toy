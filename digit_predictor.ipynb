{
 "cells": [
  {
   "cell_type": "code",
   "execution_count": 16,
   "outputs": [
    {
     "name": "stdout",
     "output_type": "stream",
     "text": [
      "The autoreload extension is already loaded. To reload it, use:\n",
      "  %reload_ext autoreload\n"
     ]
    }
   ],
   "source": [
    "%load_ext autoreload\n",
    "%autoreload 2\n",
    "%matplotlib inline"
   ],
   "metadata": {
    "collapsed": false,
    "ExecuteTime": {
     "end_time": "2025-05-29T14:49:27.133891700Z",
     "start_time": "2025-05-29T14:49:26.857659200Z"
    }
   },
   "id": "be56bbc950fffbfe"
  },
  {
   "cell_type": "code",
   "execution_count": 17,
   "id": "initial_id",
   "metadata": {
    "collapsed": true,
    "ExecuteTime": {
     "end_time": "2025-05-29T14:49:27.343102700Z",
     "start_time": "2025-05-29T14:49:27.135891200Z"
    }
   },
   "outputs": [
    {
     "name": "stdout",
     "output_type": "stream",
     "text": [
      "MNIST train dataset size: 60000\n",
      "MNIST test dataset size: 10000\n"
     ]
    }
   ],
   "source": [
    "# 导入数据集\n",
    "from torchvision.datasets import MNIST\n",
    "import torch\n",
    "\n",
    "# 设置随机种子\n",
    "torch.manual_seed(3306)\n",
    "\n",
    "# 数据预处理\n",
    "from torchvision import transforms\n",
    "# 定义数据转换\n",
    "transform = transforms.Compose([\n",
    "    transforms.ToTensor(),  # 转换为 Tensor\n",
    "    transforms.Normalize((0.1307,), (0.3081,))  # 标准化\n",
    "])\n",
    "\n",
    "# 下载 MNIST 数据集\n",
    "mnist_train = MNIST(root='./dataset_file/mnist_raw', train=True, download=True,transform=transform)\n",
    "mnist_test = MNIST(root='./dataset_file/mnist_raw', train=False, download=True,transform=transform)\n",
    "# 查看数据集大小\n",
    "print(f\"MNIST train dataset size: {len(mnist_train)}\")\n",
    "print(f\"MNIST test dataset size: {len(mnist_test)}\")"
   ]
  },
  {
   "cell_type": "code",
   "execution_count": 18,
   "outputs": [
    {
     "name": "stdout",
     "output_type": "stream",
     "text": [
      "(28, 28)\n",
      "[[-0.42421296 -0.42421296 -0.42421296 -0.42421296 -0.42421296 -0.42421296\n",
      "  -0.42421296 -0.42421296 -0.42421296 -0.42421296 -0.42421296 -0.42421296\n",
      "  -0.42421296 -0.42421296 -0.42421296 -0.42421296 -0.42421296 -0.42421296\n",
      "  -0.42421296 -0.42421296 -0.42421296 -0.42421296 -0.42421296 -0.42421296\n",
      "  -0.42421296 -0.42421296 -0.42421296 -0.42421296]\n",
      " [-0.42421296 -0.42421296 -0.42421296 -0.42421296 -0.42421296 -0.42421296\n",
      "  -0.42421296 -0.42421296 -0.42421296 -0.42421296 -0.42421296 -0.42421296\n",
      "  -0.42421296 -0.42421296 -0.42421296 -0.42421296 -0.42421296 -0.42421296\n",
      "  -0.42421296 -0.42421296 -0.42421296 -0.42421296 -0.42421296 -0.42421296\n",
      "  -0.42421296 -0.42421296 -0.42421296 -0.42421296]\n",
      " [-0.42421296 -0.42421296 -0.42421296 -0.42421296 -0.42421296 -0.42421296\n",
      "  -0.42421296 -0.42421296 -0.42421296 -0.42421296 -0.42421296 -0.42421296\n",
      "  -0.42421296 -0.42421296 -0.42421296 -0.42421296 -0.42421296 -0.42421296\n",
      "  -0.42421296 -0.42421296 -0.42421296 -0.42421296 -0.42421296 -0.42421296\n",
      "  -0.42421296 -0.42421296 -0.42421296 -0.42421296]\n",
      " [-0.42421296 -0.42421296 -0.42421296 -0.42421296 -0.42421296 -0.42421296\n",
      "  -0.42421296 -0.42421296 -0.42421296 -0.42421296 -0.42421296 -0.42421296\n",
      "  -0.42421296 -0.42421296 -0.42421296 -0.42421296 -0.42421296 -0.42421296\n",
      "  -0.42421296 -0.42421296 -0.42421296 -0.42421296 -0.42421296 -0.42421296\n",
      "  -0.42421296 -0.42421296 -0.42421296 -0.42421296]\n",
      " [-0.42421296 -0.42421296 -0.42421296 -0.42421296 -0.42421296 -0.42421296\n",
      "  -0.42421296 -0.42421296 -0.42421296 -0.42421296 -0.42421296 -0.42421296\n",
      "  -0.42421296 -0.42421296 -0.42421296  0.22492696  1.5995764   2.7960303\n",
      "   1.5995764   0.21219873 -0.42421296 -0.42421296 -0.42421296 -0.42421296\n",
      "  -0.42421296 -0.42421296 -0.42421296 -0.42421296]\n",
      " [-0.42421296 -0.42421296 -0.42421296 -0.42421296 -0.42421296 -0.42421296\n",
      "  -0.42421296 -0.42421296 -0.42421296 -0.42421296 -0.42421296 -0.42421296\n",
      "  -0.42421296 -0.42421296  0.18674228  2.6051068   2.783302    2.783302\n",
      "   2.783302    2.5923786  -0.42421296 -0.42421296 -0.42421296 -0.42421296\n",
      "  -0.42421296 -0.42421296 -0.42421296 -0.42421296]\n",
      " [-0.42421296 -0.42421296 -0.42421296 -0.42421296 -0.42421296 -0.42421296\n",
      "  -0.42421296 -0.42421296 -0.42421296 -0.42421296 -0.42421296 -0.42421296\n",
      "  -0.42421296  0.26311168  2.4650962   2.7960303   2.783302    2.617835\n",
      "   2.5414655   2.783302    0.30129635 -0.34784356 -0.42421296 -0.42421296\n",
      "  -0.42421296 -0.42421296 -0.42421296 -0.42421296]\n",
      " [-0.42421296 -0.42421296 -0.42421296 -0.42421296 -0.42421296 -0.42421296\n",
      "  -0.42421296 -0.42421296 -0.42421296 -0.42421296 -0.42421296 -0.29693064\n",
      "   0.33948106  2.4269114   2.783302    2.7960303   2.783302    2.1468904\n",
      "   0.64495873  2.783302    2.7960303   1.1286315  -0.42421296 -0.42421296\n",
      "  -0.42421296 -0.42421296 -0.42421296 -0.42421296]\n",
      " [-0.42421296 -0.42421296 -0.42421296 -0.42421296 -0.42421296 -0.42421296\n",
      "  -0.42421296 -0.42421296 -0.42421296 -0.42421296 -0.42421296  1.6504892\n",
      "   2.783302    2.783302    2.783302    2.7960303   2.783302    2.783302\n",
      "   0.7976975   1.9814233   2.7960303   1.7014022  -0.42421296 -0.42421296\n",
      "  -0.42421296 -0.42421296 -0.42421296 -0.42421296]\n",
      " [-0.42421296 -0.42421296 -0.42421296 -0.42421296 -0.42421296 -0.42421296\n",
      "  -0.42421296 -0.42421296 -0.42421296 -0.42421296  0.22492696  2.6051068\n",
      "   2.7960303   2.7960303   1.9941516   1.0268056   2.7960303   2.4778244\n",
      "   0.17401403  0.58131754  2.8214867   1.7141304  -0.42421296 -0.42421296\n",
      "  -0.42421296 -0.42421296 -0.42421296 -0.42421296]\n",
      " [-0.42421296 -0.42421296 -0.42421296 -0.42421296 -0.42421296 -0.42421296\n",
      "  -0.42421296 -0.42421296 -0.42421296  0.18674228  2.6051068   2.783302\n",
      "   2.783302    1.854141   -0.27147415  0.5304046   1.1159033  -0.15692005\n",
      "  -0.42421296 -0.42421296  2.7960303   2.668748    0.21219873 -0.42421296\n",
      "  -0.42421296 -0.42421296 -0.42421296 -0.42421296]\n",
      " [-0.42421296 -0.42421296 -0.42421296 -0.42421296 -0.42421296 -0.42421296\n",
      "  -0.42421296 -0.42421296  0.05945994  1.6759458   2.7960303   2.5414655\n",
      "   2.2232597   0.64495873 -0.42421296 -0.42421296 -0.42421296 -0.42421296\n",
      "  -0.42421296 -0.42421296  2.7960303   2.783302    1.6759458  -0.42421296\n",
      "  -0.42421296 -0.42421296 -0.42421296 -0.42421296]\n",
      " [-0.42421296 -0.42421296 -0.42421296 -0.42421296 -0.42421296 -0.42421296\n",
      "  -0.42421296 -0.33511534  1.8414128   2.783302    2.6305633   0.47949168\n",
      "  -0.1823765  -0.06782241 -0.42421296 -0.42421296 -0.42421296 -0.42421296\n",
      "  -0.42421296 -0.42421296  2.7960303   2.783302    2.0577927  -0.42421296\n",
      "  -0.42421296 -0.42421296 -0.42421296 -0.42421296]\n",
      " [-0.42421296 -0.42421296 -0.42421296 -0.42421296 -0.42421296 -0.42421296\n",
      "  -0.42421296  0.30129635  2.783302    2.783302    0.37766576 -0.42421296\n",
      "  -0.42421296 -0.42421296 -0.42421296 -0.42421296 -0.42421296 -0.42421296\n",
      "  -0.42421296 -0.42421296  2.7960303   2.783302    2.0577927  -0.42421296\n",
      "  -0.42421296 -0.42421296 -0.42421296 -0.42421296]\n",
      " [-0.42421296 -0.42421296 -0.42421296 -0.42421296 -0.42421296 -0.42421296\n",
      "  -0.42421296  2.0959773   2.7960303   1.9941516  -0.42421296 -0.42421296\n",
      "  -0.42421296 -0.42421296 -0.42421296 -0.42421296 -0.42421296 -0.42421296\n",
      "  -0.42421296 -0.42421296  2.8214867   2.7960303   2.0705209  -0.42421296\n",
      "  -0.42421296 -0.42421296 -0.42421296 -0.42421296]\n",
      " [-0.42421296 -0.42421296 -0.42421296 -0.42421296 -0.42421296 -0.42421296\n",
      "   0.54313284  2.7069325   2.783302    1.0013492  -0.42421296 -0.42421296\n",
      "  -0.42421296 -0.42421296 -0.42421296 -0.42421296 -0.42421296 -0.42421296\n",
      "  -0.42421296 -0.42421296  2.7960303   2.783302    1.4595658  -0.42421296\n",
      "  -0.42421296 -0.42421296 -0.42421296 -0.42421296]\n",
      " [-0.42421296 -0.42421296 -0.42421296 -0.42421296 -0.42421296 -0.42421296\n",
      "   0.65768695  2.783302    2.5032809  -0.10600711 -0.42421296 -0.42421296\n",
      "  -0.42421296 -0.42421296 -0.42421296 -0.42421296 -0.42421296 -0.42421296\n",
      "  -0.33511534  1.2940987   2.7960303   1.9432386  -0.27147415 -0.42421296\n",
      "  -0.42421296 -0.42421296 -0.42421296 -0.42421296]\n",
      " [-0.42421296 -0.42421296 -0.42421296 -0.42421296 -0.42421296 -0.42421296\n",
      "   0.65768695  2.783302    2.4141831  -0.42421296 -0.42421296 -0.42421296\n",
      "  -0.42421296 -0.42421296 -0.42421296 -0.42421296 -0.42421296 -0.33511534\n",
      "   1.2431858   2.783302    2.4396398   0.47949168 -0.42421296 -0.42421296\n",
      "  -0.42421296 -0.42421296 -0.42421296 -0.42421296]\n",
      " [-0.42421296 -0.42421296 -0.42421296 -0.42421296 -0.42421296 -0.42421296\n",
      "   0.65768695  2.783302    1.4213811  -0.42421296 -0.42421296 -0.42421296\n",
      "  -0.42421296 -0.42421296 -0.42421296 -0.42421296  0.18674228  1.6759458\n",
      "   2.783302    1.7777716  -0.42421296 -0.42421296 -0.42421296 -0.42421296\n",
      "  -0.42421296 -0.42421296 -0.42421296 -0.42421296]\n",
      " [-0.42421296 -0.42421296 -0.42421296 -0.42421296 -0.42421296 -0.42421296\n",
      "   0.67041516  2.7960303   2.4396398  -0.42421296 -0.42421296 -0.42421296\n",
      "  -0.42421296 -0.42421296 -0.42421296  1.0268056   2.6051068   2.7960303\n",
      "   1.637761   -0.42421296 -0.42421296 -0.42421296 -0.42421296 -0.42421296\n",
      "  -0.42421296 -0.42421296 -0.42421296 -0.42421296]\n",
      " [-0.42421296 -0.42421296 -0.42421296 -0.42421296 -0.42421296 -0.42421296\n",
      "   0.65768695  2.783302    2.7451172   1.4341093   0.18674228 -0.05509418\n",
      "   0.65768695  1.8414128   2.4396398   2.7960303   2.4141831   1.7014022\n",
      "   0.28856814 -0.42421296 -0.42421296 -0.42421296 -0.42421296 -0.42421296\n",
      "  -0.42421296 -0.42421296 -0.42421296 -0.42421296]\n",
      " [-0.42421296 -0.42421296 -0.42421296 -0.42421296 -0.42421296 -0.42421296\n",
      "   0.65768695  2.783302    2.783302    2.783302    2.4905527   2.3123574\n",
      "   2.783302    2.783302    2.783302    2.0705209   1.2304575  -0.42421296\n",
      "  -0.42421296 -0.42421296 -0.42421296 -0.42421296 -0.42421296 -0.42421296\n",
      "  -0.42421296 -0.42421296 -0.42421296 -0.42421296]\n",
      " [-0.42421296 -0.42421296 -0.42421296 -0.42421296 -0.42421296 -0.42421296\n",
      "  -0.06782241  2.1087058   2.783302    2.783302    2.7960303   2.783302\n",
      "   2.783302    2.5414655   1.4213811  -0.42421296 -0.42421296 -0.42421296\n",
      "  -0.42421296 -0.42421296 -0.42421296 -0.42421296 -0.42421296 -0.42421296\n",
      "  -0.42421296 -0.42421296 -0.42421296 -0.42421296]\n",
      " [-0.42421296 -0.42421296 -0.42421296 -0.42421296 -0.42421296 -0.42421296\n",
      "  -0.42421296 -0.10600711  1.2050011   2.783302    2.7960303   2.783302\n",
      "   1.3704681   0.04673171 -0.42421296 -0.42421296 -0.42421296 -0.42421296\n",
      "  -0.42421296 -0.42421296 -0.42421296 -0.42421296 -0.42421296 -0.42421296\n",
      "  -0.42421296 -0.42421296 -0.42421296 -0.42421296]\n",
      " [-0.42421296 -0.42421296 -0.42421296 -0.42421296 -0.42421296 -0.42421296\n",
      "  -0.42421296 -0.42421296 -0.42421296 -0.42421296 -0.42421296 -0.42421296\n",
      "  -0.42421296 -0.42421296 -0.42421296 -0.42421296 -0.42421296 -0.42421296\n",
      "  -0.42421296 -0.42421296 -0.42421296 -0.42421296 -0.42421296 -0.42421296\n",
      "  -0.42421296 -0.42421296 -0.42421296 -0.42421296]\n",
      " [-0.42421296 -0.42421296 -0.42421296 -0.42421296 -0.42421296 -0.42421296\n",
      "  -0.42421296 -0.42421296 -0.42421296 -0.42421296 -0.42421296 -0.42421296\n",
      "  -0.42421296 -0.42421296 -0.42421296 -0.42421296 -0.42421296 -0.42421296\n",
      "  -0.42421296 -0.42421296 -0.42421296 -0.42421296 -0.42421296 -0.42421296\n",
      "  -0.42421296 -0.42421296 -0.42421296 -0.42421296]\n",
      " [-0.42421296 -0.42421296 -0.42421296 -0.42421296 -0.42421296 -0.42421296\n",
      "  -0.42421296 -0.42421296 -0.42421296 -0.42421296 -0.42421296 -0.42421296\n",
      "  -0.42421296 -0.42421296 -0.42421296 -0.42421296 -0.42421296 -0.42421296\n",
      "  -0.42421296 -0.42421296 -0.42421296 -0.42421296 -0.42421296 -0.42421296\n",
      "  -0.42421296 -0.42421296 -0.42421296 -0.42421296]\n",
      " [-0.42421296 -0.42421296 -0.42421296 -0.42421296 -0.42421296 -0.42421296\n",
      "  -0.42421296 -0.42421296 -0.42421296 -0.42421296 -0.42421296 -0.42421296\n",
      "  -0.42421296 -0.42421296 -0.42421296 -0.42421296 -0.42421296 -0.42421296\n",
      "  -0.42421296 -0.42421296 -0.42421296 -0.42421296 -0.42421296 -0.42421296\n",
      "  -0.42421296 -0.42421296 -0.42421296 -0.42421296]]\n"
     ]
    },
    {
     "data": {
      "text/plain": "<Figure size 640x480 with 1 Axes>",
      "image/png": "[encoded data removed]"
     },
     "metadata": {},
     "output_type": "display_data"
    }
   ],
   "source": [
    "# 查看图片\n",
    "import matplotlib.pyplot as plt\n",
    "\n",
    "\n",
    "def show_image(id):\n",
    "    img, label = mnist_train[id]\n",
    "    img = img.squeeze().numpy()  # 去掉通道维度\n",
    "    print(img.shape)\n",
    "    print(img)\n",
    "    plt.imshow(img, cmap='gray')\n",
    "    plt.title(f\"Label: {label}\")\n",
    "    plt.axis('off')\n",
    "    plt.show()\n",
    "\n",
    "show_image(1)"
   ],
   "metadata": {
    "collapsed": false,
    "ExecuteTime": {
     "end_time": "2025-05-29T14:49:27.567685100Z",
     "start_time": "2025-05-29T14:49:27.344103400Z"
    }
   },
   "id": "8ea4e67426df066d"
  },
  {
   "cell_type": "code",
   "execution_count": null,
   "outputs": [
    {
     "name": "stderr",
     "output_type": "stream",
     "text": [
      "C:\\Users\\Leezed\\AppData\\Local\\Temp\\ipykernel_55284\\524189022.py:32: UserWarning: To copy construct from a tensor, it is recommended to use sourceTensor.detach().clone() or sourceTensor.detach().clone().requires_grad_(True), rather than torch.tensor(sourceTensor).\n",
      "  y = torch.tensor(torch.zeros((inputs.shape[0],10), dtype=torch.float)).cuda()\n"
     ]
    },
    {
     "name": "stdout",
     "output_type": "stream",
     "text": [
      "Epoch [1/100], Loss: 0.5742, Accuracy: 83.96%\n",
      "Epoch [2/100], Loss: 0.2163, Accuracy: 93.68%\n",
      "Epoch [3/100], Loss: 0.1530, Accuracy: 95.51%\n",
      "Epoch [4/100], Loss: 0.1200, Accuracy: 96.43%\n",
      "Epoch [5/100], Loss: 0.0998, Accuracy: 97.08%\n",
      "Epoch [6/100], Loss: 0.0829, Accuracy: 97.59%\n",
      "Epoch [7/100], Loss: 0.0724, Accuracy: 97.76%\n",
      "Epoch [8/100], Loss: 0.0616, Accuracy: 98.25%\n",
      "Epoch [9/100], Loss: 0.0548, Accuracy: 98.37%\n",
      "Epoch [10/100], Loss: 0.0483, Accuracy: 98.53%\n",
      "Epoch [11/100], Loss: 0.0427, Accuracy: 98.77%\n",
      "Epoch [12/100], Loss: 0.0381, Accuracy: 98.89%\n",
      "Epoch [13/100], Loss: 0.0342, Accuracy: 99.00%\n",
      "Epoch [14/100], Loss: 0.0307, Accuracy: 99.13%\n",
      "Epoch [15/100], Loss: 0.0280, Accuracy: 99.20%\n",
      "Epoch [16/100], Loss: 0.0242, Accuracy: 99.30%\n",
      "Epoch [17/100], Loss: 0.0232, Accuracy: 99.34%\n",
      "Epoch [18/100], Loss: 0.0212, Accuracy: 99.44%\n",
      "Epoch [19/100], Loss: 0.0186, Accuracy: 99.47%\n",
      "Epoch [20/100], Loss: 0.0167, Accuracy: 99.59%\n",
      "Epoch [21/100], Loss: 0.0159, Accuracy: 99.59%\n"
     ]
    }
   ],
   "source": [
    "# 数据加载器\n",
    "from torch.utils.data import DataLoader\n",
    "from lib.model.DigitModel import DigitLinear\n",
    "# 定义数据加载器\n",
    "batch_size = 256\n",
    "train_loader = DataLoader(mnist_train, batch_size=batch_size, shuffle=True)\n",
    "test_loader = DataLoader(mnist_test, batch_size=batch_size, shuffle=False)\n",
    "\n",
    "\n",
    "epoch = 100\n",
    "# 训练模型\n",
    "net = DigitLinear()\n",
    "net.cuda()\n",
    "\n",
    "\n",
    "# 定义损失函数和优化器\n",
    "import torch.optim as optim\n",
    "criterion = torch.nn.CrossEntropyLoss()\n",
    "optimizer = optim.SGD(net.parameters(), lr=0.01, momentum=0.9)\n",
    "# 训练函数\n",
    "\n",
    "def train_model(model, train_loader, criterion, optimizer, num_epochs=10):\n",
    "    model.train()  # 设置模型为训练模式\n",
    "    \n",
    "    for epoch in range(num_epochs):\n",
    "        running_loss = 0.0\n",
    "        correct = 0\n",
    "        total = 0\n",
    "        \n",
    "        for i, (inputs, labels) in enumerate(train_loader):\n",
    "            inputs= inputs.cuda()\n",
    "            y = torch.tensor(torch.zeros((inputs.shape[0],10), dtype=torch.float)).cuda()\n",
    "            y[torch.arange(inputs.shape[0]), labels] = 1\n",
    "            optimizer.zero_grad()\n",
    "            outputs = model(inputs)\n",
    "            loss = criterion(outputs, y)\n",
    "            loss.backward()\n",
    "            optimizer.step()\n",
    "            running_loss += loss.item()\n",
    "            _, predicted = outputs.max(1)\n",
    "            total += labels.size(0)\n",
    "            correct += predicted.eq(labels.cuda()).sum().item()\n",
    "        epoch_loss = running_loss / len(train_loader)\n",
    "        epoch_acc = 100. * correct / total\n",
    "        print(f'Epoch [{epoch+1}/{num_epochs}], Loss: {epoch_loss:.4f}, Accuracy: {epoch_acc:.2f}%')\n",
    "\n",
    "# 训练模型\n",
    "train_model(net, train_loader, criterion, optimizer, num_epochs=epoch)\n",
    "            \n"
   ],
   "metadata": {
    "collapsed": false,
    "is_executing": true,
    "ExecuteTime": {
     "start_time": "2025-05-29T14:49:27.568686300Z"
    }
   },
   "id": "1b32e2c112b93a96"
  },
  {
   "cell_type": "code",
   "execution_count": null,
   "outputs": [],
   "source": [
    "# 测试模型\n",
    "device = torch.device(\"cuda\" if torch.cuda.is_available() else \"cpu\")\n",
    "net.eval()\n",
    "correct = 0\n",
    "total = 0\n",
    "with torch.no_grad():\n",
    "    for inputs, labels in test_loader:\n",
    "        inputs, labels = inputs.to(device).float(), labels.to(device).float()\n",
    "        outputs = net(inputs)\n",
    "        _, predicted = outputs.max(1)\n",
    "        total += labels.size(0)\n",
    "        correct += predicted.eq(labels.cuda()).sum().item()\n",
    "        \n",
    "        # print(f\"Predicted: {predicted}, Ground Truth: {targets}\")\n",
    "\n",
    "print(f\"Accuracy: {correct / total * 100:.4f} %\")"
   ],
   "metadata": {
    "collapsed": false,
    "is_executing": true
   },
   "id": "94bfa801132d472b"
  }
 ],
 "metadata": {
  "kernelspec": {
   "display_name": "Python 3",
   "language": "python",
   "name": "python3"
  },
  "language_info": {
   "codemirror_mode": {
    "name": "ipython",
    "version": 2
   },
   "file_extension": ".py",
   "mimetype": "text/x-python",
   "name": "python",
   "nbconvert_exporter": "python",
   "pygments_lexer": "ipython2",
   "version": "2.7.6"
  }
 },
 "nbformat": 4,
 "nbformat_minor": 5
}
